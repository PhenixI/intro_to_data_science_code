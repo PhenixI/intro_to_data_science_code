{
 "cells": [
  {
   "cell_type": "code",
   "execution_count": 1,
   "metadata": {
    "collapsed": true
   },
   "outputs": [],
   "source": [
    "import numpy\n",
    "import pandas\n",
    "import statsmodels.api as sm"
   ]
  },
  {
   "cell_type": "code",
   "execution_count": 4,
   "metadata": {
    "collapsed": true
   },
   "outputs": [],
   "source": [
    "def complex_heuristic(file_path):\n",
    "    '''\n",
    "    You are given a list of Titantic passengers and their associated\n",
    "    information. More information about the data can be seen at the link below:\n",
    "    http://www.kaggle.com/c/titanic-gettingStarted/data\n",
    "\n",
    "    For this exercise, you need to write a more sophisticated algorithm\n",
    "    that will use the passengers' gender and their socioeconomical class and age \n",
    "    to predict if they survived the Titanic diaster. \n",
    "    \n",
    "    You prediction should be 79% accurate or higher.\n",
    "    \n",
    "    Here's the algorithm, predict the passenger survived if:\n",
    "    1) If the passenger is female or\n",
    "    2) if his/her socioeconomic status is high AND if the passenger is under 18\n",
    "    \n",
    "    Otherwise, your algorithm should predict that the passenger perished in the disaster.\n",
    "    \n",
    "    Or more specifically in terms of coding:\n",
    "    female or (high status and under 18)\n",
    "    \n",
    "    You can access the gender of a passenger via passenger['Sex'].\n",
    "    If the passenger is male, passenger['Sex'] will return a string \"male\".\n",
    "    If the passenger is female, passenger['Sex'] will return a string \"female\".\n",
    "    \n",
    "    You can access the socioeconomic status of a passenger via passenger['Pclass']:\n",
    "    High socioeconomic status -- passenger['Pclass'] is 1\n",
    "    Medium socioeconomic status -- passenger['Pclass'] is 2\n",
    "    Low socioeconomic status -- passenger['Pclass'] is 3\n",
    "\n",
    "    You can access the age of a passenger via passenger['Age'].\n",
    "    \n",
    "    Write your prediction back into the \"predictions\" dictionary. The\n",
    "    key of the dictionary should be the Passenger's id (which can be accessed\n",
    "    via passenger[\"PassengerId\"]) and the associated value should be 1 if the\n",
    "    passenger survived or 0 otherwise. \n",
    "\n",
    "    For example, if a passenger is predicted to have survived:\n",
    "    passenger_id = passenger['PassengerId']\n",
    "    predictions[passenger_id] = 1\n",
    "\n",
    "    And if a passenger is predicted to have perished in the disaster:\n",
    "    passenger_id = passenger['PassengerId']\n",
    "    predictions[passenger_id] = 0\n",
    "    \n",
    "    You can also look at the Titantic data that you will be working with\n",
    "    at the link below:\n",
    "    https://s3.amazonaws.com/content.udacity-data.com/courses/ud359/titanic_data.csv\n",
    "    '''\n",
    "\n",
    "    predictions = {}\n",
    "    df = pandas.read_csv(file_path)\n",
    "    for passenger_index, passenger in df.iterrows():\n",
    "        passenger_id = passenger['PassengerId']\n",
    "        \n",
    "        if passenger['Sex'] == 'female' or (passenger['Age']<=18 and passenger['Pclass']==1):\n",
    "            predictions[passenger_id] = 1\n",
    "        else:\n",
    "            predictions[passenger_id] = 0\n",
    "        # \n",
    "        # your code here\n",
    "        # for example, assuming that passengers who are male\n",
    "        # and older than 18 surived:\n",
    "        #     if passenger['Sex'] == 'male' or passenger['Age'] < 18:\n",
    "        #         predictions[passenger_id] = 1\n",
    "        # \n",
    "    return predictions"
   ]
  },
  {
   "cell_type": "code",
   "execution_count": 5,
   "metadata": {
    "collapsed": false
   },
   "outputs": [],
   "source": [
    "Y_pred = complex_heuristic('test.csv')"
   ]
  },
  {
   "cell_type": "code",
   "execution_count": 6,
   "metadata": {
    "collapsed": true
   },
   "outputs": [],
   "source": [
    "submission = pandas.DataFrame(Y_pred.items(),columns = ['PassengerId','Survived'])\n",
    "submission.to_csv('titanic.csv',index = False)"
   ]
  },
  {
   "cell_type": "code",
   "execution_count": null,
   "metadata": {
    "collapsed": true
   },
   "outputs": [],
   "source": []
  }
 ],
 "metadata": {
  "kernelspec": {
   "display_name": "Python [default]",
   "language": "python",
   "name": "python2"
  },
  "language_info": {
   "codemirror_mode": {
    "name": "ipython",
    "version": 2
   },
   "file_extension": ".py",
   "mimetype": "text/x-python",
   "name": "python",
   "nbconvert_exporter": "python",
   "pygments_lexer": "ipython2",
   "version": "2.7.12"
  }
 },
 "nbformat": 4,
 "nbformat_minor": 1
}
